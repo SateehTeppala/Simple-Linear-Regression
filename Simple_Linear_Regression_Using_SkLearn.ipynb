{
  "nbformat": 4,
  "nbformat_minor": 0,
  "metadata": {
    "colab": {
      "name": "Simple_Linear_Regression Using SkLearn.ipynb",
      "provenance": []
    },
    "kernelspec": {
      "name": "python3",
      "display_name": "Python 3"
    }
  },
  "cells": [
    {
      "cell_type": "code",
      "metadata": {
        "id": "MgAYbuJmklm6",
        "colab_type": "code",
        "colab": {
          "base_uri": "https://localhost:8080/",
          "height": 71
        },
        "outputId": "e50e390f-52dd-4428-ee38-70ddf2e3d078"
      },
      "source": [
        "import numpy as np\n",
        "import pandas as pd\n",
        "\n",
        "import matplotlib.pyplot as plt\n",
        "\n",
        "from sklearn.linear_model import LinearRegression\n",
        "import statsmodels.api as sm\n"
      ],
      "execution_count": 29,
      "outputs": [
        {
          "output_type": "stream",
          "text": [
            "/usr/local/lib/python3.6/dist-packages/statsmodels/tools/_testing.py:19: FutureWarning: pandas.util.testing is deprecated. Use the functions in the public API at pandas.testing instead.\n",
            "  import pandas.util.testing as tm\n"
          ],
          "name": "stderr"
        }
      ]
    },
    {
      "cell_type": "code",
      "metadata": {
        "id": "fZNgDmhLlcJg",
        "colab_type": "code",
        "colab": {}
      },
      "source": [
        "data = pd.read_csv('bike_sharing_data.txt')"
      ],
      "execution_count": 2,
      "outputs": []
    },
    {
      "cell_type": "code",
      "metadata": {
        "id": "2z1MVzM1ljsq",
        "colab_type": "code",
        "colab": {
          "base_uri": "https://localhost:8080/",
          "height": 204
        },
        "outputId": "410319db-99af-4a9a-dbda-251d023d9e19"
      },
      "source": [
        "data.head()"
      ],
      "execution_count": 3,
      "outputs": [
        {
          "output_type": "execute_result",
          "data": {
            "text/html": [
              "<div>\n",
              "<style scoped>\n",
              "    .dataframe tbody tr th:only-of-type {\n",
              "        vertical-align: middle;\n",
              "    }\n",
              "\n",
              "    .dataframe tbody tr th {\n",
              "        vertical-align: top;\n",
              "    }\n",
              "\n",
              "    .dataframe thead th {\n",
              "        text-align: right;\n",
              "    }\n",
              "</style>\n",
              "<table border=\"1\" class=\"dataframe\">\n",
              "  <thead>\n",
              "    <tr style=\"text-align: right;\">\n",
              "      <th></th>\n",
              "      <th>Population</th>\n",
              "      <th>Profit</th>\n",
              "    </tr>\n",
              "  </thead>\n",
              "  <tbody>\n",
              "    <tr>\n",
              "      <th>0</th>\n",
              "      <td>6.1101</td>\n",
              "      <td>17.5920</td>\n",
              "    </tr>\n",
              "    <tr>\n",
              "      <th>1</th>\n",
              "      <td>5.5277</td>\n",
              "      <td>9.1302</td>\n",
              "    </tr>\n",
              "    <tr>\n",
              "      <th>2</th>\n",
              "      <td>8.5186</td>\n",
              "      <td>13.6620</td>\n",
              "    </tr>\n",
              "    <tr>\n",
              "      <th>3</th>\n",
              "      <td>7.0032</td>\n",
              "      <td>11.8540</td>\n",
              "    </tr>\n",
              "    <tr>\n",
              "      <th>4</th>\n",
              "      <td>5.8598</td>\n",
              "      <td>6.8233</td>\n",
              "    </tr>\n",
              "  </tbody>\n",
              "</table>\n",
              "</div>"
            ],
            "text/plain": [
              "   Population   Profit\n",
              "0      6.1101  17.5920\n",
              "1      5.5277   9.1302\n",
              "2      8.5186  13.6620\n",
              "3      7.0032  11.8540\n",
              "4      5.8598   6.8233"
            ]
          },
          "metadata": {
            "tags": []
          },
          "execution_count": 3
        }
      ]
    },
    {
      "cell_type": "code",
      "metadata": {
        "id": "Wz2r_f9rllUE",
        "colab_type": "code",
        "colab": {
          "base_uri": "https://localhost:8080/",
          "height": 513
        },
        "outputId": "34ae4918-9ed0-4ef9-c003-be5e8cb80e9c"
      },
      "source": [
        "plt.figure(figsize=(10,8))\n",
        "plt.scatter(x='Population',y='Profit',data=data,c='orange')\n",
        "plt.xlabel('Population')\n",
        "plt.ylabel('Profit')\n",
        "plt.title('Simple Linear Regression')\n",
        "plt.show()"
      ],
      "execution_count": 25,
      "outputs": [
        {
          "output_type": "display_data",
          "data": {
            "image/png": "[encoded data removed]",
            "text/plain": [
              "<Figure size 720x576 with 1 Axes>"
            ]
          },
          "metadata": {
            "tags": [],
            "needs_background": "light"
          }
        }
      ]
    },
    {
      "cell_type": "code",
      "metadata": {
        "id": "ppTrDGKimHoY",
        "colab_type": "code",
        "colab": {
          "base_uri": "https://localhost:8080/",
          "height": 34
        },
        "outputId": "70d5f0b2-7816-4114-d4fd-bb8bb2344356"
      },
      "source": [
        "X = data['Population'].values.reshape(-1,1)\n",
        "y = data['Profit'].values.reshape(-1,1)\n",
        "reg = LinearRegression()\n",
        "reg.fit(X, y)"
      ],
      "execution_count": 13,
      "outputs": [
        {
          "output_type": "execute_result",
          "data": {
            "text/plain": [
              "LinearRegression(copy_X=True, fit_intercept=True, n_jobs=None, normalize=False)"
            ]
          },
          "metadata": {
            "tags": []
          },
          "execution_count": 13
        }
      ]
    },
    {
      "cell_type": "code",
      "metadata": {
        "id": "soanQC8voJ9N",
        "colab_type": "code",
        "colab": {
          "base_uri": "https://localhost:8080/",
          "height": 497
        },
        "outputId": "19d1387d-662a-4e23-d426-5169a199c228"
      },
      "source": [
        "predictions = reg.predict(X)\n",
        "plt.figure(figsize=(10, 8))\n",
        "plt.scatter(x='Population',y='Profit',data=data,c='orange')\n",
        "plt.plot(data['Population'],predictions,c='black')\n",
        "plt.xlabel(\"Population\")\n",
        "plt.ylabel(\"Profit\")\n",
        "plt.show()"
      ],
      "execution_count": 26,
      "outputs": [
        {
          "output_type": "display_data",
          "data": {
            "image/png": "[encoded data removed]",
            "text/plain": [
              "<Figure size 720x576 with 1 Axes>"
            ]
          },
          "metadata": {
            "tags": [],
            "needs_background": "light"
          }
        }
      ]
    },
    {
      "cell_type": "code",
      "metadata": {
        "id": "_46gIvTNox7H",
        "colab_type": "code",
        "colab": {
          "base_uri": "https://localhost:8080/",
          "height": 442
        },
        "outputId": "a27ea552-809d-4bbf-ea71-ab8f28b37703"
      },
      "source": [
        "X = data['Population']\n",
        "y = data['Profit']\n",
        "X2 = sm.add_constant(X)\n",
        "est = sm.OLS(y, X2)\n",
        "est2 = est.fit()\n",
        "print(est2.summary())"
      ],
      "execution_count": 30,
      "outputs": [
        {
          "output_type": "stream",
          "text": [
            "                            OLS Regression Results                            \n",
            "==============================================================================\n",
            "Dep. Variable:                 Profit   R-squared:                       0.702\n",
            "Model:                            OLS   Adj. R-squared:                  0.699\n",
            "Method:                 Least Squares   F-statistic:                     223.8\n",
            "Date:                Sat, 15 Aug 2020   Prob (F-statistic):           1.02e-26\n",
            "Time:                        10:27:56   Log-Likelihood:                -243.95\n",
            "No. Observations:                  97   AIC:                             491.9\n",
            "Df Residuals:                      95   BIC:                             497.1\n",
            "Df Model:                           1                                         \n",
            "Covariance Type:            nonrobust                                         \n",
            "==============================================================================\n",
            "                 coef    std err          t      P>|t|      [0.025      0.975]\n",
            "------------------------------------------------------------------------------\n",
            "const         -3.8958      0.719     -5.415      0.000      -5.324      -2.467\n",
            "Population     1.1930      0.080     14.961      0.000       1.035       1.351\n",
            "==============================================================================\n",
            "Omnibus:                       39.986   Durbin-Watson:                   0.994\n",
            "Prob(Omnibus):                  0.000   Jarque-Bera (JB):              108.142\n",
            "Skew:                           1.455   Prob(JB):                     3.29e-24\n",
            "Kurtosis:                       7.276   Cond. No.                         21.4\n",
            "==============================================================================\n",
            "\n",
            "Warnings:\n",
            "[1] Standard Errors assume that the covariance matrix of the errors is correctly specified.\n"
          ],
          "name": "stdout"
        }
      ]
    },
    {
      "cell_type": "code",
      "metadata": {
        "id": "zjj6f3TmqNuy",
        "colab_type": "code",
        "colab": {}
      },
      "source": [
        ""
      ],
      "execution_count": null,
      "outputs": []
    }
  ]
}